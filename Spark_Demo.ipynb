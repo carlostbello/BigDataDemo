{
  "nbformat": 4,
  "nbformat_minor": 0,
  "metadata": {
    "colab": {
      "provenance": [],
      "authorship_tag": "ABX9TyOD3UZsDd9jZdQE+cfvCekV",
      "include_colab_link": true
    },
    "kernelspec": {
      "name": "python3",
      "display_name": "Python 3"
    },
    "language_info": {
      "name": "python"
    }
  },
  "cells": [
    {
      "cell_type": "markdown",
      "metadata": {
        "id": "view-in-github",
        "colab_type": "text"
      },
      "source": [
        "<a href=\"https://colab.research.google.com/github/carlostbello/BigDataDemo/blob/main/Spark_Demo.ipynb\" target=\"_parent\"><img src=\"https://colab.research.google.com/assets/colab-badge.svg\" alt=\"Open In Colab\"/></a>"
      ]
    },
    {
      "cell_type": "code",
      "execution_count": null,
      "metadata": {
        "id": "B-kZmRQX7qpk"
      },
      "outputs": [],
      "source": [
        "!apt-get update -qq > /dev/null\n",
        "!apt-get install openjdk-8-jdk-headless -qq > /dev/null\n",
        "!wget -q https://downloads.apache.org/spark/spark-3.2.3/spark-3.2.3-bin-hadoop2.7.tgz\n",
        "!tar xf spark-3.2.3-bin-hadoop2.7.tgz\n",
        "!pip install -q findspark\n",
        "\n",
        "import os\n",
        "os.environ[\"JAVA_HOME\"] = \"/usr/lib/jvm/java-8-openjdk-amd64\"\n",
        "os.environ[\"SPARK_HOME\"] = \"/content/spark-3.2.3-bin-hadoop2.7\"\n",
        "\n",
        "import findspark\n",
        "findspark.init()\n",
        "\n",
        "from pyspark import SparkContext, SparkConf\n",
        "\n",
        "spark_conf = SparkConf()\\\n",
        "  .setAppName(\"YourTest\")\\\n",
        "  .setMaster(\"local[*]\")\n",
        "\n",
        "sc = SparkContext.getOrCreate(spark_conf)"
      ]
    },
    {
      "cell_type": "code",
      "source": [
        "sc"
      ],
      "metadata": {
        "colab": {
          "base_uri": "https://localhost:8080/",
          "height": 196
        },
        "id": "ndLDW0tb86Rn",
        "outputId": "806b24f4-8946-421f-c5fc-839aa90d9d9c"
      },
      "execution_count": null,
      "outputs": [
        {
          "output_type": "execute_result",
          "data": {
            "text/plain": [
              "<SparkContext master=local[*] appName=YourTest>"
            ],
            "text/html": [
              "\n",
              "        <div>\n",
              "            <p><b>SparkContext</b></p>\n",
              "\n",
              "            <p><a href=\"http://f4c9dd456314:4040\">Spark UI</a></p>\n",
              "\n",
              "            <dl>\n",
              "              <dt>Version</dt>\n",
              "                <dd><code>v3.2.3</code></dd>\n",
              "              <dt>Master</dt>\n",
              "                <dd><code>local[*]</code></dd>\n",
              "              <dt>AppName</dt>\n",
              "                <dd><code>YourTest</code></dd>\n",
              "            </dl>\n",
              "        </div>\n",
              "        "
            ]
          },
          "metadata": {},
          "execution_count": 4
        }
      ]
    },
    {
      "cell_type": "code",
      "source": [
        "nums = list(range(0, 1000001))\n",
        "len(nums)"
      ],
      "metadata": {
        "colab": {
          "base_uri": "https://localhost:8080/"
        },
        "id": "n0_Y0fd5893a",
        "outputId": "f61b7219-538a-4837-dd47-a237b1fa35ac"
      },
      "execution_count": null,
      "outputs": [
        {
          "output_type": "execute_result",
          "data": {
            "text/plain": [
              "1000001"
            ]
          },
          "metadata": {},
          "execution_count": 5
        }
      ]
    },
    {
      "cell_type": "code",
      "source": [
        "nums_rdd = sc.parallelize(nums)\n",
        "nums_rdd # Lazy Execution\n"
      ],
      "metadata": {
        "colab": {
          "base_uri": "https://localhost:8080/"
        },
        "id": "_zVvwuOK9CN_",
        "outputId": "885b6484-7e8d-4f85-e9c1-20c4333526d1"
      },
      "execution_count": null,
      "outputs": [
        {
          "output_type": "execute_result",
          "data": {
            "text/plain": [
              "ParallelCollectionRDD[0] at readRDDFromFile at PythonRDD.scala:274"
            ]
          },
          "metadata": {},
          "execution_count": 6
        }
      ]
    },
    {
      "cell_type": "code",
      "source": [
        "nums_rdd.collect() #Executes RDD Operations"
      ],
      "metadata": {
        "id": "XW-dzrsG9Fgz"
      },
      "execution_count": null,
      "outputs": []
    },
    {
      "cell_type": "code",
      "source": [
        "nums_rdd.take(5)"
      ],
      "metadata": {
        "colab": {
          "base_uri": "https://localhost:8080/"
        },
        "id": "DpY0IHR59JkA",
        "outputId": "295d5ce6-0968-4f7a-9af2-de8b3f8e9c6f"
      },
      "execution_count": null,
      "outputs": [
        {
          "output_type": "execute_result",
          "data": {
            "text/plain": [
              "[0, 1, 2, 3, 4]"
            ]
          },
          "metadata": {},
          "execution_count": 7
        }
      ]
    },
    {
      "cell_type": "code",
      "source": [
        "squared_nums_rdd = nums_rdd.map(lambda x: x ** 2) \n",
        "squared_nums_rdd.take(5)"
      ],
      "metadata": {
        "colab": {
          "base_uri": "https://localhost:8080/"
        },
        "id": "p8j2b1uq9Nwg",
        "outputId": "ab1724f6-6797-4a1d-9b73-0ea2f89856ff"
      },
      "execution_count": null,
      "outputs": [
        {
          "output_type": "execute_result",
          "data": {
            "text/plain": [
              "[0, 1, 4, 9, 16]"
            ]
          },
          "metadata": {},
          "execution_count": 8
        }
      ]
    },
    {
      "cell_type": "code",
      "source": [
        "pairs = squared_nums_rdd.map(lambda x: (x, len(str(x))))\n",
        "pairs.take(25)"
      ],
      "metadata": {
        "colab": {
          "base_uri": "https://localhost:8080/"
        },
        "id": "tlj8wIgC9WVT",
        "outputId": "ad62eea3-8961-4171-a7ae-4d05dfd3ff24"
      },
      "execution_count": null,
      "outputs": [
        {
          "output_type": "execute_result",
          "data": {
            "text/plain": [
              "[(0, 1),\n",
              " (1, 1),\n",
              " (4, 1),\n",
              " (9, 1),\n",
              " (16, 2),\n",
              " (25, 2),\n",
              " (36, 2),\n",
              " (49, 2),\n",
              " (64, 2),\n",
              " (81, 2),\n",
              " (100, 3),\n",
              " (121, 3),\n",
              " (144, 3),\n",
              " (169, 3),\n",
              " (196, 3),\n",
              " (225, 3),\n",
              " (256, 3),\n",
              " (289, 3),\n",
              " (324, 3),\n",
              " (361, 3),\n",
              " (400, 3),\n",
              " (441, 3),\n",
              " (484, 3),\n",
              " (529, 3),\n",
              " (576, 3)]"
            ]
          },
          "metadata": {},
          "execution_count": 9
        }
      ]
    },
    {
      "cell_type": "code",
      "source": [
        "even_digit_pairs = pairs.filter(lambda x: (x[1] % 2) == 0)\n",
        "even_digit_pairs.take(25)\n"
      ],
      "metadata": {
        "colab": {
          "base_uri": "https://localhost:8080/"
        },
        "id": "XsvOaIB99dMC",
        "outputId": "b753331b-85fe-4aea-b36b-c60b90a17d6b"
      },
      "execution_count": null,
      "outputs": [
        {
          "output_type": "execute_result",
          "data": {
            "text/plain": [
              "[(16, 2),\n",
              " (25, 2),\n",
              " (36, 2),\n",
              " (49, 2),\n",
              " (64, 2),\n",
              " (81, 2),\n",
              " (1024, 4),\n",
              " (1089, 4),\n",
              " (1156, 4),\n",
              " (1225, 4),\n",
              " (1296, 4),\n",
              " (1369, 4),\n",
              " (1444, 4),\n",
              " (1521, 4),\n",
              " (1600, 4),\n",
              " (1681, 4),\n",
              " (1764, 4),\n",
              " (1849, 4),\n",
              " (1936, 4),\n",
              " (2025, 4),\n",
              " (2116, 4),\n",
              " (2209, 4),\n",
              " (2304, 4),\n",
              " (2401, 4),\n",
              " (2500, 4)]"
            ]
          },
          "metadata": {},
          "execution_count": 11
        }
      ]
    },
    {
      "cell_type": "code",
      "source": [
        "flipped_pairs = even_digit_pairs.map(lambda x: (x[1], x[0]))\n",
        "flipped_pairs.take(25)"
      ],
      "metadata": {
        "colab": {
          "base_uri": "https://localhost:8080/"
        },
        "id": "atF67w039Zro",
        "outputId": "bd7fd682-4762-4265-eefa-12e094fa84da"
      },
      "execution_count": null,
      "outputs": [
        {
          "output_type": "execute_result",
          "data": {
            "text/plain": [
              "[(2, 16),\n",
              " (2, 25),\n",
              " (2, 36),\n",
              " (2, 49),\n",
              " (2, 64),\n",
              " (2, 81),\n",
              " (4, 1024),\n",
              " (4, 1089),\n",
              " (4, 1156),\n",
              " (4, 1225),\n",
              " (4, 1296),\n",
              " (4, 1369),\n",
              " (4, 1444),\n",
              " (4, 1521),\n",
              " (4, 1600),\n",
              " (4, 1681),\n",
              " (4, 1764),\n",
              " (4, 1849),\n",
              " (4, 1936),\n",
              " (4, 2025),\n",
              " (4, 2116),\n",
              " (4, 2209),\n",
              " (4, 2304),\n",
              " (4, 2401),\n",
              " (4, 2500)]"
            ]
          },
          "metadata": {},
          "execution_count": 12
        }
      ]
    },
    {
      "cell_type": "code",
      "source": [
        "grouped = flipped_pairs.groupByKey()\n",
        "grouped.take(25)"
      ],
      "metadata": {
        "colab": {
          "base_uri": "https://localhost:8080/"
        },
        "id": "134ayxuF9gUx",
        "outputId": "5dc82b21-afe4-45e0-b580-6271f0b430d2"
      },
      "execution_count": null,
      "outputs": [
        {
          "output_type": "execute_result",
          "data": {
            "text/plain": [
              "[(2, <pyspark.resultiterable.ResultIterable at 0x7fd59c2632b0>),\n",
              " (4, <pyspark.resultiterable.ResultIterable at 0x7fd59c263f10>),\n",
              " (6, <pyspark.resultiterable.ResultIterable at 0x7fd59c263970>),\n",
              " (8, <pyspark.resultiterable.ResultIterable at 0x7fd59c2634f0>),\n",
              " (10, <pyspark.resultiterable.ResultIterable at 0x7fd59c263dc0>),\n",
              " (12, <pyspark.resultiterable.ResultIterable at 0x7fd59c263220>)]"
            ]
          },
          "metadata": {},
          "execution_count": 13
        }
      ]
    },
    {
      "cell_type": "code",
      "source": [
        "grouped = grouped.map(lambda x: (x[0], list(x[1])))\n",
        "grouped.take(2)"
      ],
      "metadata": {
        "colab": {
          "base_uri": "https://localhost:8080/"
        },
        "id": "q5L8k0b69lr0",
        "outputId": "27d59d9b-edbb-44b7-de38-ebb0349de742"
      },
      "execution_count": null,
      "outputs": [
        {
          "output_type": "execute_result",
          "data": {
            "text/plain": [
              "[(2, [16, 25, 36, 49, 64, 81]),\n",
              " (4,\n",
              "  [1024,\n",
              "   1089,\n",
              "   1156,\n",
              "   1225,\n",
              "   1296,\n",
              "   1369,\n",
              "   1444,\n",
              "   1521,\n",
              "   1600,\n",
              "   1681,\n",
              "   1764,\n",
              "   1849,\n",
              "   1936,\n",
              "   2025,\n",
              "   2116,\n",
              "   2209,\n",
              "   2304,\n",
              "   2401,\n",
              "   2500,\n",
              "   2601,\n",
              "   2704,\n",
              "   2809,\n",
              "   2916,\n",
              "   3025,\n",
              "   3136,\n",
              "   3249,\n",
              "   3364,\n",
              "   3481,\n",
              "   3600,\n",
              "   3721,\n",
              "   3844,\n",
              "   3969,\n",
              "   4096,\n",
              "   4225,\n",
              "   4356,\n",
              "   4489,\n",
              "   4624,\n",
              "   4761,\n",
              "   4900,\n",
              "   5041,\n",
              "   5184,\n",
              "   5329,\n",
              "   5476,\n",
              "   5625,\n",
              "   5776,\n",
              "   5929,\n",
              "   6084,\n",
              "   6241,\n",
              "   6400,\n",
              "   6561,\n",
              "   6724,\n",
              "   6889,\n",
              "   7056,\n",
              "   7225,\n",
              "   7396,\n",
              "   7569,\n",
              "   7744,\n",
              "   7921,\n",
              "   8100,\n",
              "   8281,\n",
              "   8464,\n",
              "   8649,\n",
              "   8836,\n",
              "   9025,\n",
              "   9216,\n",
              "   9409,\n",
              "   9604,\n",
              "   9801])]"
            ]
          },
          "metadata": {},
          "execution_count": 14
        }
      ]
    },
    {
      "cell_type": "code",
      "source": [
        "averaged = grouped.map(lambda x: (x[0], sum(x[1]) / len(x[1]) ))\n",
        "averaged.collect()\n"
      ],
      "metadata": {
        "colab": {
          "base_uri": "https://localhost:8080/"
        },
        "id": "ZIuMN3iu9ozw",
        "outputId": "663c1d9c-c190-4888-97da-24117a51cc31"
      },
      "execution_count": null,
      "outputs": [
        {
          "output_type": "execute_result",
          "data": {
            "text/plain": [
              "[(2, 45.166666666666664),\n",
              " (4, 4675.5),\n",
              " (6, 471838.0),\n",
              " (8, 47204941.666666664),\n",
              " (10, 4720705565.0),\n",
              " (12, 472075391214.1667)]"
            ]
          },
          "metadata": {},
          "execution_count": 15
        }
      ]
    }
  ]
}